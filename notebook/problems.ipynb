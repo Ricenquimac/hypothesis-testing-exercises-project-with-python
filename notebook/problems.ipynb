{
 "cells": [
  {
   "cell_type": "markdown",
   "id": "d9d036c6",
   "metadata": {},
   "source": [
    "# Hypothesis testing problems"
   ]
  },
  {
   "cell_type": "markdown",
   "id": "d157c4db",
   "metadata": {},
   "source": [
    "## Exercise 1\n",
    "\n",
    "You are a nutritionist researching two different types of diets to see if there is a significant difference in weight loss after one month. You choose two random groups of people; one group follows the first diet, and the other follows the second. At the end of the month, you record the weight loss (in kg) for each person:\n",
    "\n",
    "| Diet 1 | Diet 2 |\n",
    "|:-------|:-------|\n",
    "| 2.0 | 3.0 |\n",
    "| 2.5 | 3.2 |\n",
    "| 3.0 | 3.1 |\n",
    "| 2.8 | 2.9 |\n",
    "| 2.3 | 2.8 |\n",
    "| 2.7 | 3.0 |\n",
    "| 2.5 | 3.2 |\n",
    "\n",
    "With these data, it seeks to answer the following question: Is there a significant difference in average weight loss between people who followed the first diet and those who followed the second diet?\n",
    "\n",
    "To draw conclusions, follow the points below:\n",
    "\n",
    "- State the hypothesis: null and alternative hypothesis.\n",
    "- Perform the test to test the hypothesis. You can use a Student's t-test.\n",
    "- Analyze the conclusions."
   ]
  },
  {
   "cell_type": "markdown",
   "id": "aee6ec9d",
   "metadata": {},
   "source": [
    "**HYPOTHESIS**\n",
    "\n",
    "Null Hypothesis: The group of people that followed the second diet will have a more significant average weight loss than the gruop that followed the first diet.\n",
    "\n",
    "Alternative Hypothesis: The first diet group will have more average weight loss than the group that followed the second diet."
   ]
  },
  {
   "cell_type": "code",
   "execution_count": 5,
   "id": "8e0f3cf0",
   "metadata": {},
   "outputs": [
    {
     "name": "stdout",
     "output_type": "stream",
     "text": [
      "The mean of the first group is: 2.542857142857143 and the second mean is: 3.0285714285714285\n",
      "The z score-value is: -3.5383407969933938\n",
      "The p-value is: 0.004083270191713912\n"
     ]
    }
   ],
   "source": [
    "# TODO\n",
    "import scipy.stats as stats\n",
    "import numpy as np\n",
    "\n",
    "Diet1_group = [2.0, 2.5, 3.0, 2.8, 2.3, 2.7, 2.5]\n",
    "Diet2_group = [3.0, 3.2, 3.1, 2.9, 2.8, 3.0, 3.2]\n",
    "\n",
    "#Calculate the mean of the two tests usisnf ttest_ind\n",
    "mean1 = np.mean(Diet1_group)\n",
    "mean2 = np.mean(Diet2_group)\n",
    "#The probability of obtaining the results of the experiment if the null hypothesis were true - p_value\n",
    "#p_value = 2 * (1 - stats.norm.cdf(abs(z_score)))\n",
    "\n",
    "#z_score = (sample_mean - poblational_mean) / (poblational_std / np.sqrt(n))\n",
    "\n",
    "#To compare both tests we better use ttest_ind\n",
    "zscore_value, p_value = stats.ttest_ind(Diet1_group, Diet2_group)\n",
    "print(f\"The mean of the first group is: {mean1} and the second mean is: {mean2}\")\n",
    "print(f\"The z score-value is:\", zscore_value)\n",
    "print(f\"The p-value is:\", p_value)"
   ]
  },
  {
   "cell_type": "markdown",
   "id": "11626a79",
   "metadata": {},
   "source": [
    "**Conclusions**\n",
    "\n",
    "We can see that the probability of obtaining the results of the experiment if the null hypothesis were true is quite fine given that is above the 0.05, which is the 5%. We can accept the null hypothesis given the p-value and reject the alternative hypothesis."
   ]
  },
  {
   "cell_type": "markdown",
   "id": "f432e18e",
   "metadata": {},
   "source": [
    "## ANOVA\n",
    "\n",
    "**ANOVA** (*Analysis of Variance*) is a statistical technique used to compare the measures of two or more groups. The idea behind ANOVA is to decompose the total variability in the data into two components: between-group variability and within-group variability:\n",
    "\n",
    "- **Between-group variability**: This variability refers to the differences between the group means. If this variability is considerably larger than the within-group variability, it could be an indication that at least one of the group means is different.\n",
    "- **Within-group variability**: This variability refers to the dispersion of the data within each group. If all groups have similar variability, then any noticeable difference in group means could be considered significant.\n",
    "\n",
    "Hypotheses in ANOVA typically include:\n",
    "\n",
    "- **Null hypothesis** ($H₀$): The means of all groups are equal.\n",
    "- **Alternative hypothesis** ($H₁$): At least one of the group means is different.\n",
    "\n",
    "If the ANOVA test result is significant (e.g., a p-value less than a threshold such as 0.05), this suggests that at least one group mean is different."
   ]
  },
  {
   "cell_type": "markdown",
   "id": "fc5f3721",
   "metadata": {},
   "source": [
    "## Exercise 2\n",
    "\n",
    "A farmer decides to test three different types of fertilizers to determine if one is superior in terms of corn production. The farmer plants corn on 15 identical plots and uses all three fertilizers (5 plots for each type). At the end of the season, he measures the corn yield (in kg) of each plot, with the following result:\n",
    "\n",
    "| Fertilizer 1 | Fertilizer 2 | Fertilizer 3 |\n",
    "|:-------------|:-------------|:-------------|\n",
    "| 20 | 22 | 24 |\n",
    "| 21 | 21 | 23 |\n",
    "| 20 | 23 | 22 |\n",
    "| 19 | 22 | 23 |\n",
    "| 20 | 21 | 24 |\n",
    "\n",
    "With this data, he seeks to answer the following question: Is there a significant difference in average corn yield between the three types of fertilizers?\n",
    "\n",
    "To help you, follow the points below:\n",
    "\n",
    "- State the hypothesis: null and alternative hypothesis.\n",
    "- Perform the ANOVA test.\n",
    "- Analyze the conclusions.\n",
    "- If one fertilizer is better than another, how can we know it?"
   ]
  },
  {
   "cell_type": "markdown",
   "id": "0f759693",
   "metadata": {},
   "source": [
    "**HYPOTHESIS**\n",
    "\n",
    "Null Hypothesis: There is no signicant difference in the corn yield averages between the three fertilizers applied during the season.\n",
    "\n",
    "Alternative Hypothesis: One of the fertilizers will have a corn yield average above the other two."
   ]
  },
  {
   "cell_type": "code",
   "execution_count": null,
   "id": "eecad0ca",
   "metadata": {},
   "outputs": [
    {
     "name": "stdout",
     "output_type": "stream",
     "text": [
      "The mean of the first group is: 20.0, the second mean is: 21.8, and the third mean is: 23.2\n",
      "The z score-value is: 20.315789473684188\n",
      "The p-value is: 0.00014047824793190475\n"
     ]
    }
   ],
   "source": [
    "# TODO\n",
    "import scipy.stats as stats\n",
    "import numpy as np\n",
    "\n",
    "fertilizer1 = [20, 21, 20, 19, 20]\n",
    "fertilizer2 = [22, 21, 23, 22, 21]\n",
    "fertilizer3 = [24, 23, 22, 23, 24]\n",
    "\n",
    "#ANOVA TEST#\n",
    "\n",
    "#We use the Anova test to compare more than two samples \n",
    "mean1 = np.mean(fertilizer1)\n",
    "mean2 = np.mean(fertilizer2)\n",
    "mean3 = np.mean(fertilizer3)\n",
    "\n",
    "zscore_value, p_value = stats.f_oneway(fertilizer1, fertilizer2, fertilizer3)\n",
    "\n",
    "\n",
    "print(f\"The mean of the first group is: {mean1}, the second mean is: {mean2}, and the third mean is: {mean3}\")\n",
    "print(f\"The z score-value is:\", zscore_value)\n",
    "print(f\"The p-value is:\", p_value)"
   ]
  },
  {
   "cell_type": "markdown",
   "id": "cddf77ed",
   "metadata": {},
   "source": [
    "**CONCLUSIONS**\n",
    "\n",
    "We can see that the probability of obtaining the results of the experiment if the null hypothesis were true is quite different from the mean, given that is above the 0.05, which is the 5%. In this case we reject the null hypothesis, which means that the fetilizers corn yield average is different."
   ]
  },
  {
   "cell_type": "code",
   "execution_count": 6,
   "id": "6218fd87",
   "metadata": {},
   "outputs": [
    {
     "name": "stdout",
     "output_type": "stream",
     "text": [
      "Multiple Comparison of Means - Tukey HSD, FWER=0.05\n",
      "==================================================\n",
      "group1 group2 meandiff p-adj  lower  upper  reject\n",
      "--------------------------------------------------\n",
      "    F1     F2      1.8 0.0099 0.4572 3.1428   True\n",
      "    F1     F3      3.2 0.0001 1.8572 4.5428   True\n",
      "    F2     F3      1.4 0.0409 0.0572 2.7428   True\n",
      "--------------------------------------------------\n"
     ]
    }
   ],
   "source": [
    "#Best Fertilizer\n",
    "import numpy as np\n",
    "from statsmodels.stats.multicomp import pairwise_tukeyhsd\n",
    "\n",
    "#Perform Tukey’s HSD test for equality of means over multiple treatments.\n",
    "#We make it an array to compare them\n",
    "data = np.concatenate([fertilizer1, fertilizer2, fertilizer3])\n",
    "#We make labels two compare the difference two by two between the three fertilizers. Ex: F1--> Fertilizer1 == Fertilizer2\n",
    "labels = [\"F1\"] * 5 + [\"F2\"] * 5 + [\"F3\"] * 5\n",
    "\n",
    "# Tukey test compares the difference of the three fertilizers, which ones is better and which is worst.\n",
    "result = pairwise_tukeyhsd(data, labels, alpha = 0.05)\n",
    "print(result)"
   ]
  },
  {
   "cell_type": "markdown",
   "id": "b87c8fcf",
   "metadata": {},
   "source": [
    "We can see from the table in the column meandiff that the more significant difference is between Fertilizer 1 and 3, then is between 1 and 2 and finally between 2 and  3.This means that the best fertilizer is the Fertilizer3, followed by Fertilizer 2 and the worst is fertilizer1."
   ]
  }
 ],
 "metadata": {
  "kernelspec": {
   "display_name": "Python 3",
   "language": "python",
   "name": "python3"
  },
  "language_info": {
   "codemirror_mode": {
    "name": "ipython",
    "version": 3
   },
   "file_extension": ".py",
   "mimetype": "text/x-python",
   "name": "python",
   "nbconvert_exporter": "python",
   "pygments_lexer": "ipython3",
   "version": "3.11.4"
  }
 },
 "nbformat": 4,
 "nbformat_minor": 5
}
